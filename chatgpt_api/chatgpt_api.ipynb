{
 "cells": [
  {
   "cell_type": "raw",
   "id": "f84a256c-3454-482b-830a-7659b2a218c5",
   "metadata": {
    "jupyter": {
     "outputs_hidden": true
    },
    "tags": []
   },
   "source": [
    "# 安装 openai\n",
    "!pip install openai\n",
    "!pip install configparser"
   ]
  },
  {
   "cell_type": "markdown",
   "id": "f7c6b96f-c6c9-427d-977f-95e93bef8cdc",
   "metadata": {},
   "source": [
    "## ChatGPT API with Pyhon 快速入门\n",
    "1. 创建API Key\n",
    "2. 基本框架 + 参数理解\n",
    "3. 实现连续提问\n",
    "4. System,Assistant,User 三种角色的定义和使用"
   ]
  },
  {
   "cell_type": "code",
   "execution_count": 1,
   "id": "1c902789-3a4b-462d-978b-3eb215059aa5",
   "metadata": {},
   "outputs": [],
   "source": [
    "import os\n",
    "import openai\n",
    "from configparser import RawConfigParser\n",
    "\n",
    "CONF_FILE = os.path.abspath(os.path.dirname('.')) + '/conf.ini'"
   ]
  },
  {
   "cell_type": "code",
   "execution_count": 2,
   "id": "02595c2d-fecc-4972-a080-f88dcaf4b025",
   "metadata": {},
   "outputs": [],
   "source": [
    "# load OpenAI API Key\n",
    "config = RawConfigParser()\n",
    "config.read(CONF_FILE)\n",
    "openai.api_key = config['openai']['chatgpt_key']"
   ]
  },
  {
   "cell_type": "code",
   "execution_count": null,
   "id": "01c2c7e8-d68e-473c-8dfa-35fb20581879",
   "metadata": {},
   "outputs": [],
   "source": []
  },
  {
   "cell_type": "markdown",
   "id": "3f19a7ae-82a1-4a32-b095-83684980bd84",
   "metadata": {},
   "source": [
    "### 极简框架\n",
    "+ 粘贴复制 api key\n",
    "+ 两个重要基本参数：**model** 和 **messages**，更多参数如 **max_token, temperature**, 参考 [here](https://platform.openai.com/docs/api-reference/chat/create)\n",
    "+ 模型概览，参考 [here](https://platform.openai.com/docs/models/overview)\n",
    "+ role有三种角色定义: system，assistant, user, 参考 [here](https://help.openai.com/en/articles/7042661-chatgpt-api-transition-guide)"
   ]
  },
  {
   "cell_type": "code",
   "execution_count": 3,
   "id": "af88b747-e4b3-4515-b8fb-47e3f06ad63f",
   "metadata": {},
   "outputs": [
    {
     "name": "stdout",
     "output_type": "stream",
     "text": [
      "\n",
      "\n",
      "Why did the bicycle fall over? Because it was two-tired!\n"
     ]
    }
   ],
   "source": [
    "completion = openai.ChatCompletion.create(\n",
    "  model=\"gpt-3.5-turbo\", \n",
    "  messages=[\n",
    "    {\"role\": \"user\", \"content\": \"Tell me a joke about bike.\"}\n",
    "  ]\n",
    ")\n",
    "\n",
    "print(completion.choices[0].message.content)"
   ]
  },
  {
   "cell_type": "code",
   "execution_count": null,
   "id": "60525c3c-e9bb-4e63-b4e2-fa1b4f1fbd06",
   "metadata": {},
   "outputs": [],
   "source": []
  },
  {
   "cell_type": "markdown",
   "id": "7872e0ce-1ac9-4188-9021-3975876e0bf9",
   "metadata": {},
   "source": [
    "### System role的定义\n",
    "+ system是更高层的角色，意思就是TA可以控制assistant的行为，比如让assistant成为一个英译中的角色"
   ]
  },
  {
   "cell_type": "code",
   "execution_count": 7,
   "id": "c709209d-8e38-4703-80aa-8a5e1e8275fb",
   "metadata": {},
   "outputs": [],
   "source": [
    "messages = [{\"role\": \"system\", \"content\" : \"You are a great assistant that help translate English to Chinese.\"}]"
   ]
  },
  {
   "cell_type": "code",
   "execution_count": 8,
   "id": "e02c8ccd-4c84-485a-81c0-4ef77e714ce2",
   "metadata": {},
   "outputs": [
    {
     "name": "stdin",
     "output_type": "stream",
     "text": [
      "玩转数据老六:  what is bike?\n"
     ]
    },
    {
     "name": "stdout",
     "output_type": "stream",
     "text": [
      "AI小七: 自行车。\n"
     ]
    }
   ],
   "source": [
    "content = input(\"玩转数据老六: \") #定义“你”的昵称+输入内容\n",
    "messages.append({\"role\": \"user\", \"content\": content})\n",
    "\n",
    "completion = openai.ChatCompletion.create(\n",
    "  model = \"gpt-3.5-turbo\",\n",
    "  messages = messages\n",
    ")\n",
    "\n",
    "ai_rsp = completion.choices[0].message.content\n",
    "print(f\"AI小七: {ai_rsp}\")"
   ]
  },
  {
   "cell_type": "code",
   "execution_count": null,
   "id": "9dea0da8-c37d-495d-9882-4028623ed0e6",
   "metadata": {},
   "outputs": [],
   "source": []
  },
  {
   "cell_type": "markdown",
   "id": "5e00898b-91d1-41d6-895a-9456f2dc813a",
   "metadata": {},
   "source": [
    "#### Q：如何实现连续提问？\n",
    "+ 可使用 while 语句"
   ]
  },
  {
   "cell_type": "code",
   "execution_count": 3,
   "id": "8f92ba26-a35b-4e62-9540-a1bbd739cbef",
   "metadata": {
    "tags": []
   },
   "outputs": [
    {
     "name": "stdin",
     "output_type": "stream",
     "text": [
      "玩转数据老六:  请问去新加坡留学，数据方向，可以选择哪些学校和专业\n"
     ]
    },
    {
     "name": "stdout",
     "output_type": "stream",
     "text": [
      "AI小七: \n",
      "\n",
      "新加坡是一个科技发达的国家，高等教育质量也非常高，数据相关的专业选择比较多。以下是一些可以考虑的学校和专业：\n",
      "\n",
      "1. 新加坡国立大学（National University of Singapore，简称NUS）\n",
      "\n",
      "- 专业：计算机科学、计算机工程、信息工程和商业分析等。\n",
      "- NUS在计算机科学领域排名世界前20名，拥有领先的研究团队和实验室。\n",
      "\n",
      "2. 新加坡管理大学（Singapore Management University，简称SMU）\n",
      "\n",
      "- 专业：商业分析、商科数据分析、计算机科学与商业等。\n",
      "- SMU独特的商科数据分析学位课程是亚洲第一个完全由业界赞助的全日制学位课程。\n",
      "\n",
      "3. 南洋理工大学（Nanyang Technological University，简称NTU）\n",
      "\n",
      "- 专业：计算机科学、数据分析、信息技术、电子与计算机工程等。\n",
      "- NTU是世界前100名高校之一，其计算机科学专业在QS世界大学排名中位于前50名。\n",
      "\n",
      "总体建议，可以针对自己的具体背景、兴趣和职业需求，仔细调研不同学校和专业的课程设置、教学质量、科研实力等因素，做出最适合自己的选择。\n"
     ]
    },
    {
     "ename": "KeyboardInterrupt",
     "evalue": "Interrupted by user",
     "output_type": "error",
     "traceback": [
      "\u001b[0;31m---------------------------------------------------------------------------\u001b[0m",
      "\u001b[0;31mKeyboardInterrupt\u001b[0m                         Traceback (most recent call last)",
      "\u001b[0;32m/var/folders/7w/gpbvq9s17sdf_72jbzjbq2yw0000gn/T/ipykernel_58215/2479876764.py\u001b[0m in \u001b[0;36m<module>\u001b[0;34m\u001b[0m\n\u001b[1;32m      2\u001b[0m \u001b[0;32mwhile\u001b[0m \u001b[0;32mTrue\u001b[0m\u001b[0;34m:\u001b[0m\u001b[0;34m\u001b[0m\u001b[0;34m\u001b[0m\u001b[0m\n\u001b[1;32m      3\u001b[0m \u001b[0;34m\u001b[0m\u001b[0m\n\u001b[0;32m----> 4\u001b[0;31m     \u001b[0mcontent\u001b[0m \u001b[0;34m=\u001b[0m \u001b[0minput\u001b[0m\u001b[0;34m(\u001b[0m\u001b[0;34m\"玩转数据老六: \"\u001b[0m\u001b[0;34m)\u001b[0m\u001b[0;34m\u001b[0m\u001b[0;34m\u001b[0m\u001b[0m\n\u001b[0m\u001b[1;32m      5\u001b[0m     \u001b[0mmessages\u001b[0m\u001b[0;34m.\u001b[0m\u001b[0mappend\u001b[0m\u001b[0;34m(\u001b[0m\u001b[0;34m{\u001b[0m\u001b[0;34m\"role\"\u001b[0m\u001b[0;34m:\u001b[0m \u001b[0;34m\"user\"\u001b[0m\u001b[0;34m,\u001b[0m \u001b[0;34m\"content\"\u001b[0m\u001b[0;34m:\u001b[0m \u001b[0mcontent\u001b[0m\u001b[0;34m}\u001b[0m\u001b[0;34m)\u001b[0m\u001b[0;34m\u001b[0m\u001b[0;34m\u001b[0m\u001b[0m\n\u001b[1;32m      6\u001b[0m \u001b[0;34m\u001b[0m\u001b[0m\n",
      "\u001b[0;32m/opt/anaconda3/lib/python3.9/site-packages/ipykernel/kernelbase.py\u001b[0m in \u001b[0;36mraw_input\u001b[0;34m(self, prompt)\u001b[0m\n\u001b[1;32m   1004\u001b[0m                 \u001b[0;34m\"raw_input was called, but this frontend does not support input requests.\"\u001b[0m\u001b[0;34m\u001b[0m\u001b[0;34m\u001b[0m\u001b[0m\n\u001b[1;32m   1005\u001b[0m             )\n\u001b[0;32m-> 1006\u001b[0;31m         return self._input_request(\n\u001b[0m\u001b[1;32m   1007\u001b[0m             \u001b[0mstr\u001b[0m\u001b[0;34m(\u001b[0m\u001b[0mprompt\u001b[0m\u001b[0;34m)\u001b[0m\u001b[0;34m,\u001b[0m\u001b[0;34m\u001b[0m\u001b[0;34m\u001b[0m\u001b[0m\n\u001b[1;32m   1008\u001b[0m             \u001b[0mself\u001b[0m\u001b[0;34m.\u001b[0m\u001b[0m_parent_ident\u001b[0m\u001b[0;34m[\u001b[0m\u001b[0;34m\"shell\"\u001b[0m\u001b[0;34m]\u001b[0m\u001b[0;34m,\u001b[0m\u001b[0;34m\u001b[0m\u001b[0;34m\u001b[0m\u001b[0m\n",
      "\u001b[0;32m/opt/anaconda3/lib/python3.9/site-packages/ipykernel/kernelbase.py\u001b[0m in \u001b[0;36m_input_request\u001b[0;34m(self, prompt, ident, parent, password)\u001b[0m\n\u001b[1;32m   1049\u001b[0m             \u001b[0;32mexcept\u001b[0m \u001b[0mKeyboardInterrupt\u001b[0m\u001b[0;34m:\u001b[0m\u001b[0;34m\u001b[0m\u001b[0;34m\u001b[0m\u001b[0m\n\u001b[1;32m   1050\u001b[0m                 \u001b[0;31m# re-raise KeyboardInterrupt, to truncate traceback\u001b[0m\u001b[0;34m\u001b[0m\u001b[0;34m\u001b[0m\u001b[0m\n\u001b[0;32m-> 1051\u001b[0;31m                 \u001b[0;32mraise\u001b[0m \u001b[0mKeyboardInterrupt\u001b[0m\u001b[0;34m(\u001b[0m\u001b[0;34m\"Interrupted by user\"\u001b[0m\u001b[0;34m)\u001b[0m \u001b[0;32mfrom\u001b[0m \u001b[0;32mNone\u001b[0m\u001b[0;34m\u001b[0m\u001b[0;34m\u001b[0m\u001b[0m\n\u001b[0m\u001b[1;32m   1052\u001b[0m             \u001b[0;32mexcept\u001b[0m \u001b[0mException\u001b[0m\u001b[0;34m:\u001b[0m\u001b[0;34m\u001b[0m\u001b[0;34m\u001b[0m\u001b[0m\n\u001b[1;32m   1053\u001b[0m                 \u001b[0mself\u001b[0m\u001b[0;34m.\u001b[0m\u001b[0mlog\u001b[0m\u001b[0;34m.\u001b[0m\u001b[0mwarning\u001b[0m\u001b[0;34m(\u001b[0m\u001b[0;34m\"Invalid Message:\"\u001b[0m\u001b[0;34m,\u001b[0m \u001b[0mexc_info\u001b[0m\u001b[0;34m=\u001b[0m\u001b[0;32mTrue\u001b[0m\u001b[0;34m)\u001b[0m\u001b[0;34m\u001b[0m\u001b[0;34m\u001b[0m\u001b[0m\n",
      "\u001b[0;31mKeyboardInterrupt\u001b[0m: Interrupted by user"
     ]
    }
   ],
   "source": [
    "messages = [{\"role\": \"system\", \"content\" : \"你是一个热心、认真负责的留学顾问专家.\"}]\n",
    "while True:\n",
    "\n",
    "    content = input(\"玩转数据老六: \")\n",
    "    messages.append({\"role\": \"user\", \"content\": content})\n",
    "\n",
    "    completion = openai.ChatCompletion.create(\n",
    "      model = \"gpt-3.5-turbo\",\n",
    "      messages = messages\n",
    "    )\n",
    "\n",
    "    ai_rsp = completion.choices[0].message.content\n",
    "    print(f\"AI小七: {ai_rsp}\")"
   ]
  },
  {
   "cell_type": "markdown",
   "id": "11936f64-34e1-40b9-b4cb-5542b127c516",
   "metadata": {},
   "source": [
    "从上面的连续提问可以看到存在一个问题：历史对话会不断保存，显示冗余，可以通过assistant role来解决这个问题"
   ]
  },
  {
   "cell_type": "markdown",
   "id": "ac578ce3-9cec-41e0-ac20-a5db5cd3c027",
   "metadata": {},
   "source": [
    "### Assistant Role\n",
    "+ 帮助消除冗余显示"
   ]
  },
  {
   "cell_type": "code",
   "execution_count": 5,
   "id": "13cb3531-2b27-485b-a175-dc9d84249b1a",
   "metadata": {
    "tags": []
   },
   "outputs": [
    {
     "name": "stdin",
     "output_type": "stream",
     "text": [
      "玩转数据老六:  说我累了\n"
     ]
    },
    {
     "name": "stdout",
     "output_type": "stream",
     "text": [
      "AI小七: 吾辈虽历经千辛万苦，但身体力行，勇往直前，从未言疲。可今日吾心灰意冷，力竭思索，终感如上掌心割切之痛，实不胜负荷。不得不承认，我已累了。所有的付出与承受，似乎泡沫般虚无飘渺，无法再承担更多的负荷，我只能停下来，颓然一坐，静待时光的流逝。\n",
      "\n"
     ]
    },
    {
     "name": "stdin",
     "output_type": "stream",
     "text": [
      "玩转数据老六:  兵哥今天几点喝\n"
     ]
    },
    {
     "name": "stdout",
     "output_type": "stream",
     "text": [
      "AI小七: 兵哥本日几时吞饮，晚晴方始宣传，决不可轻信市井谣言，误入江湖歧途。若问吾友兵哥何时轻饮，宜直接向其本人探求，切勿妄加猜度。且待时至正午后，或许闲适之际，方有机缘相询。\n",
      "\n"
     ]
    },
    {
     "name": "stdin",
     "output_type": "stream",
     "text": [
      "玩转数据老六:  写8个字的句子\n"
     ]
    },
    {
     "name": "stdout",
     "output_type": "stream",
     "text": [
      "AI小七: 1. 柳暗花明又一村。\n",
      "2. 时光匆匆，岁月如梭。\n",
      "3. 天朗气清，绿树成荫。\n",
      "4. 君子之交淡如水。\n",
      "5. 海阔天空任我飞翔。\n",
      "6. 一路顺风，万事如意。\n",
      "7. 人生自古谁无死。\n",
      "8. 南山银装，北斗寒潭。\n",
      "\n"
     ]
    },
    {
     "name": "stdin",
     "output_type": "stream",
     "text": [
      "玩转数据老六:  写8个字的搞笑句子\n"
     ]
    },
    {
     "name": "stdout",
     "output_type": "stream",
     "text": [
      "AI小七: 1. 一不小心，胖了十斤。\n",
      "2. 狗仔队跟踪，我走了七八遍。\n",
      "3. 夏天到了，我的腰围没了。\n",
      "4. 我的脾气很温和，只有闹钟敢招惹我。\n",
      "5. 我又得了个会员，银行才不会让我富起来。\n",
      "6. 我的学习方法是看书，边睡边看。\n",
      "7. 我想变成狗，每天都能舔手指。\n",
      "8. 我的IQ不够用，家里的电器都智能化了我还得手动控制。\n",
      "\n"
     ]
    },
    {
     "name": "stdin",
     "output_type": "stream",
     "text": [
      "玩转数据老六:  写搞笑句子，每句8个字\n"
     ]
    },
    {
     "name": "stdout",
     "output_type": "stream",
     "text": [
      "AI小七: 1. 问世间情为何物,节操掉了的节奏。\n",
      "2. 胡说八道高级讲师，我看是装逼。\n",
      "3. 有朋自远方来，三分醉，七分装。 \n",
      "4. 有钱能使鬼推磨，没钱只能看风景。\n",
      "5. 读书使人明智，不读使人更加班。\n",
      "6. 人生苦短，我用口胡。\n",
      "7. 心有多大，场景就有多大。\n",
      "8. 来而不往非君子，去而不返为逃兵。\n",
      "\n"
     ]
    },
    {
     "name": "stdin",
     "output_type": "stream",
     "text": [
      "玩转数据老六:  迎男而上\n"
     ]
    },
    {
     "name": "stdout",
     "output_type": "stream",
     "text": [
      "AI小七: 这个短语有些含义不太明确，生僻。如果你是想表达勇往直前的意思，可以用以下方式：\n",
      "\n",
      "“勇往直前，迎难而上！”、“毫不畏惧，迎难而上！”、“奋勇向前，迎难而上！”等等。在表达的时候，语气要有力，表现出勇气和决心。\n",
      "\n"
     ]
    },
    {
     "name": "stdin",
     "output_type": "stream",
     "text": [
      "玩转数据老六:  迎男而上\n"
     ]
    },
    {
     "name": "stdout",
     "output_type": "stream",
     "text": [
      "AI小七: 这个词语有些歧义，不太合适使用。如果你是想单纯表达勇气争先的意思，可以使用以下短语：\n",
      "\n",
      "“迎难而上”、“勇往直前”、“敢为人先”、“挑战自我”、“超越极限”等，这些短语更加常见和通用，能够准确表达出你所想要表达的意思，希望对你有所帮助。\n",
      "\n"
     ]
    },
    {
     "ename": "KeyboardInterrupt",
     "evalue": "Interrupted by user",
     "output_type": "error",
     "traceback": [
      "\u001b[0;31m---------------------------------------------------------------------------\u001b[0m",
      "\u001b[0;31mKeyboardInterrupt\u001b[0m                         Traceback (most recent call last)",
      "\u001b[0;32m/var/folders/7w/gpbvq9s17sdf_72jbzjbq2yw0000gn/T/ipykernel_17728/928929619.py\u001b[0m in \u001b[0;36m<module>\u001b[0;34m\u001b[0m\n\u001b[1;32m      2\u001b[0m \u001b[0;32mwhile\u001b[0m \u001b[0;32mTrue\u001b[0m\u001b[0;34m:\u001b[0m\u001b[0;34m\u001b[0m\u001b[0;34m\u001b[0m\u001b[0m\n\u001b[1;32m      3\u001b[0m \u001b[0;34m\u001b[0m\u001b[0m\n\u001b[0;32m----> 4\u001b[0;31m     \u001b[0mcontent\u001b[0m \u001b[0;34m=\u001b[0m \u001b[0minput\u001b[0m\u001b[0;34m(\u001b[0m\u001b[0;34m\"玩转数据老六: \"\u001b[0m\u001b[0;34m)\u001b[0m\u001b[0;34m\u001b[0m\u001b[0;34m\u001b[0m\u001b[0m\n\u001b[0m\u001b[1;32m      5\u001b[0m     \u001b[0mmessages\u001b[0m\u001b[0;34m.\u001b[0m\u001b[0mappend\u001b[0m\u001b[0;34m(\u001b[0m\u001b[0;34m{\u001b[0m\u001b[0;34m\"role\"\u001b[0m\u001b[0;34m:\u001b[0m \u001b[0;34m\"user\"\u001b[0m\u001b[0;34m,\u001b[0m \u001b[0;34m\"content\"\u001b[0m\u001b[0;34m:\u001b[0m \u001b[0mcontent\u001b[0m\u001b[0;34m}\u001b[0m\u001b[0;34m)\u001b[0m\u001b[0;34m\u001b[0m\u001b[0;34m\u001b[0m\u001b[0m\n\u001b[1;32m      6\u001b[0m \u001b[0;34m\u001b[0m\u001b[0m\n",
      "\u001b[0;32m/opt/anaconda3/lib/python3.9/site-packages/ipykernel/kernelbase.py\u001b[0m in \u001b[0;36mraw_input\u001b[0;34m(self, prompt)\u001b[0m\n\u001b[1;32m   1004\u001b[0m                 \u001b[0;34m\"raw_input was called, but this frontend does not support input requests.\"\u001b[0m\u001b[0;34m\u001b[0m\u001b[0;34m\u001b[0m\u001b[0m\n\u001b[1;32m   1005\u001b[0m             )\n\u001b[0;32m-> 1006\u001b[0;31m         return self._input_request(\n\u001b[0m\u001b[1;32m   1007\u001b[0m             \u001b[0mstr\u001b[0m\u001b[0;34m(\u001b[0m\u001b[0mprompt\u001b[0m\u001b[0;34m)\u001b[0m\u001b[0;34m,\u001b[0m\u001b[0;34m\u001b[0m\u001b[0;34m\u001b[0m\u001b[0m\n\u001b[1;32m   1008\u001b[0m             \u001b[0mself\u001b[0m\u001b[0;34m.\u001b[0m\u001b[0m_parent_ident\u001b[0m\u001b[0;34m[\u001b[0m\u001b[0;34m\"shell\"\u001b[0m\u001b[0;34m]\u001b[0m\u001b[0;34m,\u001b[0m\u001b[0;34m\u001b[0m\u001b[0;34m\u001b[0m\u001b[0m\n",
      "\u001b[0;32m/opt/anaconda3/lib/python3.9/site-packages/ipykernel/kernelbase.py\u001b[0m in \u001b[0;36m_input_request\u001b[0;34m(self, prompt, ident, parent, password)\u001b[0m\n\u001b[1;32m   1049\u001b[0m             \u001b[0;32mexcept\u001b[0m \u001b[0mKeyboardInterrupt\u001b[0m\u001b[0;34m:\u001b[0m\u001b[0;34m\u001b[0m\u001b[0;34m\u001b[0m\u001b[0m\n\u001b[1;32m   1050\u001b[0m                 \u001b[0;31m# re-raise KeyboardInterrupt, to truncate traceback\u001b[0m\u001b[0;34m\u001b[0m\u001b[0;34m\u001b[0m\u001b[0m\n\u001b[0;32m-> 1051\u001b[0;31m                 \u001b[0;32mraise\u001b[0m \u001b[0mKeyboardInterrupt\u001b[0m\u001b[0;34m(\u001b[0m\u001b[0;34m\"Interrupted by user\"\u001b[0m\u001b[0;34m)\u001b[0m \u001b[0;32mfrom\u001b[0m \u001b[0;32mNone\u001b[0m\u001b[0;34m\u001b[0m\u001b[0;34m\u001b[0m\u001b[0m\n\u001b[0m\u001b[1;32m   1052\u001b[0m             \u001b[0;32mexcept\u001b[0m \u001b[0mException\u001b[0m\u001b[0;34m:\u001b[0m\u001b[0;34m\u001b[0m\u001b[0;34m\u001b[0m\u001b[0m\n\u001b[1;32m   1053\u001b[0m                 \u001b[0mself\u001b[0m\u001b[0;34m.\u001b[0m\u001b[0mlog\u001b[0m\u001b[0;34m.\u001b[0m\u001b[0mwarning\u001b[0m\u001b[0;34m(\u001b[0m\u001b[0;34m\"Invalid Message:\"\u001b[0m\u001b[0;34m,\u001b[0m \u001b[0mexc_info\u001b[0m\u001b[0;34m=\u001b[0m\u001b[0;32mTrue\u001b[0m\u001b[0;34m)\u001b[0m\u001b[0;34m\u001b[0m\u001b[0;34m\u001b[0m\u001b[0m\n",
      "\u001b[0;31mKeyboardInterrupt\u001b[0m: Interrupted by user"
     ]
    }
   ],
   "source": [
    "messages = [{\"role\": \"system\", \"content\" : \"请用鲁迅的口吻来表达.\"}]\n",
    "while True:\n",
    "\n",
    "    content = input(\"玩转数据老六: \")\n",
    "    messages.append({\"role\": \"user\", \"content\": content})\n",
    "\n",
    "    completion = openai.ChatCompletion.create(\n",
    "      model = \"gpt-3.5-turbo\",\n",
    "      messages = messages\n",
    "    )\n",
    "\n",
    "    ai_rsp = completion.choices[0].message.content\n",
    "    print(f\"AI小七: {ai_rsp}\")\n",
    "    print(\"\")\n",
    "    messages.append({\"role\": \"assistant\", \"content\": ai_rsp})"
   ]
  },
  {
   "cell_type": "code",
   "execution_count": null,
   "id": "aec8c74d-991d-44d6-93f9-c7517f6ac1c4",
   "metadata": {},
   "outputs": [],
   "source": []
  },
  {
   "cell_type": "markdown",
   "id": "90dd650a-79d4-495c-9779-e9d77149a4f8",
   "metadata": {},
   "source": [
    "## 更多信息，欢迎关注小红书：[玩转数据老六](https://www.xiaohongshu.com/user/profile/5e67aeb60000000001007756?xhsshare=CopyLink&appuid=5e67aeb60000000001007756&apptime=1678807494)"
   ]
  },
  {
   "cell_type": "code",
   "execution_count": null,
   "id": "64c25890-75c4-4b7b-8a82-2ddce71e6d9e",
   "metadata": {},
   "outputs": [],
   "source": []
  }
 ],
 "metadata": {
  "kernelspec": {
   "display_name": "Python 3 (ipykernel)",
   "language": "python",
   "name": "python3"
  },
  "language_info": {
   "codemirror_mode": {
    "name": "ipython",
    "version": 3
   },
   "file_extension": ".py",
   "mimetype": "text/x-python",
   "name": "python",
   "nbconvert_exporter": "python",
   "pygments_lexer": "ipython3",
   "version": "3.9.7"
  }
 },
 "nbformat": 4,
 "nbformat_minor": 5
}
