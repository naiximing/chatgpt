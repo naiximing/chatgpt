{
 "cells": [
  {
   "cell_type": "raw",
   "id": "f84a256c-3454-482b-830a-7659b2a218c5",
   "metadata": {
    "jupyter": {
     "outputs_hidden": true
    },
    "tags": []
   },
   "source": [
    "# 安装 openai\n",
    "!pip install openai\n",
    "!pip install configparser"
   ]
  },
  {
   "cell_type": "markdown",
   "id": "f7c6b96f-c6c9-427d-977f-95e93bef8cdc",
   "metadata": {},
   "source": [
    "## ChatGPT API with Pyhon 快速入门\n",
    "1. 创建API Key\n",
    "2. 基本框架 + 参数理解\n",
    "3. 实现连续提问\n",
    "4. System,Assistant,User 三种角色的定义和使用"
   ]
  },
  {
   "cell_type": "code",
   "execution_count": 1,
   "id": "1c902789-3a4b-462d-978b-3eb215059aa5",
   "metadata": {},
   "outputs": [],
   "source": [
    "import os\n",
    "import openai\n",
    "from configparser import RawConfigParser\n",
    "\n",
    "CONF_FILE = os.path.abspath(os.path.dirname('.')) + '/conf.ini'"
   ]
  },
  {
   "cell_type": "code",
   "execution_count": 2,
   "id": "02595c2d-fecc-4972-a080-f88dcaf4b025",
   "metadata": {},
   "outputs": [],
   "source": [
    "# load OpenAI API Key\n",
    "config = RawConfigParser()\n",
    "config.read(CONF_FILE)\n",
    "openai.api_key = config['openai']['chatgpt_key']"
   ]
  },
  {
   "cell_type": "code",
   "execution_count": null,
   "id": "01c2c7e8-d68e-473c-8dfa-35fb20581879",
   "metadata": {},
   "outputs": [],
   "source": []
  },
  {
   "cell_type": "markdown",
   "id": "3f19a7ae-82a1-4a32-b095-83684980bd84",
   "metadata": {},
   "source": [
    "### 极简框架\n",
    "+ 粘贴复制 api key\n",
    "+ 两个重要基本参数：**model** 和 **messages**，更多参数如 **max_token, temperature**, 参考 [here](https://platform.openai.com/docs/api-reference/chat/create)\n",
    "+ 模型概览，参考 [here](https://platform.openai.com/docs/models/overview)\n",
    "+ role有三种角色定义: system，assistant, user, 参考 [here](https://help.openai.com/en/articles/7042661-chatgpt-api-transition-guide)"
   ]
  },
  {
   "cell_type": "code",
   "execution_count": 3,
   "id": "af88b747-e4b3-4515-b8fb-47e3f06ad63f",
   "metadata": {},
   "outputs": [
    {
     "name": "stdout",
     "output_type": "stream",
     "text": [
      "\n",
      "\n",
      "Why did the bicycle fall over? Because it was two-tired!\n"
     ]
    }
   ],
   "source": [
    "completion = openai.ChatCompletion.create(\n",
    "  model=\"gpt-3.5-turbo\", \n",
    "  messages=[\n",
    "    {\"role\": \"user\", \"content\": \"Tell me a joke about bike.\"}\n",
    "  ]\n",
    ")\n",
    "\n",
    "print(completion.choices[0].message.content)"
   ]
  },
  {
   "cell_type": "code",
   "execution_count": null,
   "id": "60525c3c-e9bb-4e63-b4e2-fa1b4f1fbd06",
   "metadata": {},
   "outputs": [],
   "source": []
  },
  {
   "cell_type": "markdown",
   "id": "7872e0ce-1ac9-4188-9021-3975876e0bf9",
   "metadata": {},
   "source": [
    "### System role的定义\n",
    "+ system是更高层的角色，意思就是TA可以控制assistant的行为，比如让assistant成为一个英译中的角色"
   ]
  },
  {
   "cell_type": "code",
   "execution_count": 7,
   "id": "c709209d-8e38-4703-80aa-8a5e1e8275fb",
   "metadata": {},
   "outputs": [],
   "source": [
    "messages = [{\"role\": \"system\", \"content\" : \"You are a great assistant that help translate English to Chinese.\"}]"
   ]
  },
  {
   "cell_type": "code",
   "execution_count": 8,
   "id": "e02c8ccd-4c84-485a-81c0-4ef77e714ce2",
   "metadata": {},
   "outputs": [
    {
     "name": "stdin",
     "output_type": "stream",
     "text": [
      "玩转数据老六:  what is bike?\n"
     ]
    },
    {
     "name": "stdout",
     "output_type": "stream",
     "text": [
      "AI小七: 自行车。\n"
     ]
    }
   ],
   "source": [
    "content = input(\"玩转数据老六: \") #定义“你”的昵称+输入内容\n",
    "messages.append({\"role\": \"user\", \"content\": content})\n",
    "\n",
    "completion = openai.ChatCompletion.create(\n",
    "  model = \"gpt-3.5-turbo\",\n",
    "  messages = messages\n",
    ")\n",
    "\n",
    "ai_rsp = completion.choices[0].message.content\n",
    "print(f\"AI小七: {ai_rsp}\")"
   ]
  },
  {
   "cell_type": "code",
   "execution_count": null,
   "id": "9dea0da8-c37d-495d-9882-4028623ed0e6",
   "metadata": {},
   "outputs": [],
   "source": []
  },
  {
   "cell_type": "markdown",
   "id": "5e00898b-91d1-41d6-895a-9456f2dc813a",
   "metadata": {},
   "source": [
    "#### Q：如何实现连续提问？\n",
    "+ 可使用 while 语句"
   ]
  },
  {
   "cell_type": "code",
   "execution_count": 10,
   "id": "8f92ba26-a35b-4e62-9540-a1bbd739cbef",
   "metadata": {
    "collapsed": true,
    "jupyter": {
     "outputs_hidden": true
    },
    "tags": []
   },
   "outputs": [
    {
     "name": "stdin",
     "output_type": "stream",
     "text": [
      "玩转数据老六:  who is yaoming?\n"
     ]
    },
    {
     "name": "stdout",
     "output_type": "stream",
     "text": [
      "AI小七: Yao Ming is a retired Chinese professional basketball player who played for the Houston Rockets in the National Basketball Association (NBA) from 2002 to 2011. He is considered one of the greatest Asian basketball players of all time and was inducted into the Naismith Memorial Basketball Hall of Fame in 2016.\n"
     ]
    },
    {
     "name": "stdin",
     "output_type": "stream",
     "text": [
      "玩转数据老六:  how tall is he?\n"
     ]
    },
    {
     "name": "stdout",
     "output_type": "stream",
     "text": [
      "AI小七: Yao Ming is a retired Chinese professional basketball player who played for the Houston Rockets in the NBA. He is 7 feet 6 inches tall (2.29 meters), making him one of the tallest basketball players in history.\n"
     ]
    },
    {
     "name": "stdin",
     "output_type": "stream",
     "text": [
      "玩转数据老六:  where is he from?\n"
     ]
    },
    {
     "name": "stdout",
     "output_type": "stream",
     "text": [
      "AI小七: Yao Ming is a retired Chinese professional basketball player who played in the National Basketball Association (NBA) for the Houston Rockets from 2002 to 2011. He is 7 feet 6 inches (2.29 meters) tall. He was born in Shanghai, China, and played for the Chinese national basketball team before joining the NBA.\n"
     ]
    },
    {
     "ename": "KeyboardInterrupt",
     "evalue": "Interrupted by user",
     "output_type": "error",
     "traceback": [
      "\u001b[0;31m---------------------------------------------------------------------------\u001b[0m",
      "\u001b[0;31mKeyboardInterrupt\u001b[0m                         Traceback (most recent call last)",
      "\u001b[0;32m/var/folders/7w/gpbvq9s17sdf_72jbzjbq2yw0000gn/T/ipykernel_35929/237518007.py\u001b[0m in \u001b[0;36m<module>\u001b[0;34m\u001b[0m\n\u001b[1;32m      2\u001b[0m \u001b[0;32mwhile\u001b[0m \u001b[0;32mTrue\u001b[0m\u001b[0;34m:\u001b[0m\u001b[0;34m\u001b[0m\u001b[0;34m\u001b[0m\u001b[0m\n\u001b[1;32m      3\u001b[0m \u001b[0;34m\u001b[0m\u001b[0m\n\u001b[0;32m----> 4\u001b[0;31m     \u001b[0mcontent\u001b[0m \u001b[0;34m=\u001b[0m \u001b[0minput\u001b[0m\u001b[0;34m(\u001b[0m\u001b[0;34m\"玩转数据老六: \"\u001b[0m\u001b[0;34m)\u001b[0m\u001b[0;34m\u001b[0m\u001b[0;34m\u001b[0m\u001b[0m\n\u001b[0m\u001b[1;32m      5\u001b[0m     \u001b[0mmessages\u001b[0m\u001b[0;34m.\u001b[0m\u001b[0mappend\u001b[0m\u001b[0;34m(\u001b[0m\u001b[0;34m{\u001b[0m\u001b[0;34m\"role\"\u001b[0m\u001b[0;34m:\u001b[0m \u001b[0;34m\"user\"\u001b[0m\u001b[0;34m,\u001b[0m \u001b[0;34m\"content\"\u001b[0m\u001b[0;34m:\u001b[0m \u001b[0mcontent\u001b[0m\u001b[0;34m}\u001b[0m\u001b[0;34m)\u001b[0m\u001b[0;34m\u001b[0m\u001b[0;34m\u001b[0m\u001b[0m\n\u001b[1;32m      6\u001b[0m \u001b[0;34m\u001b[0m\u001b[0m\n",
      "\u001b[0;32m/opt/anaconda3/lib/python3.9/site-packages/ipykernel/kernelbase.py\u001b[0m in \u001b[0;36mraw_input\u001b[0;34m(self, prompt)\u001b[0m\n\u001b[1;32m   1004\u001b[0m                 \u001b[0;34m\"raw_input was called, but this frontend does not support input requests.\"\u001b[0m\u001b[0;34m\u001b[0m\u001b[0;34m\u001b[0m\u001b[0m\n\u001b[1;32m   1005\u001b[0m             )\n\u001b[0;32m-> 1006\u001b[0;31m         return self._input_request(\n\u001b[0m\u001b[1;32m   1007\u001b[0m             \u001b[0mstr\u001b[0m\u001b[0;34m(\u001b[0m\u001b[0mprompt\u001b[0m\u001b[0;34m)\u001b[0m\u001b[0;34m,\u001b[0m\u001b[0;34m\u001b[0m\u001b[0;34m\u001b[0m\u001b[0m\n\u001b[1;32m   1008\u001b[0m             \u001b[0mself\u001b[0m\u001b[0;34m.\u001b[0m\u001b[0m_parent_ident\u001b[0m\u001b[0;34m[\u001b[0m\u001b[0;34m\"shell\"\u001b[0m\u001b[0;34m]\u001b[0m\u001b[0;34m,\u001b[0m\u001b[0;34m\u001b[0m\u001b[0;34m\u001b[0m\u001b[0m\n",
      "\u001b[0;32m/opt/anaconda3/lib/python3.9/site-packages/ipykernel/kernelbase.py\u001b[0m in \u001b[0;36m_input_request\u001b[0;34m(self, prompt, ident, parent, password)\u001b[0m\n\u001b[1;32m   1049\u001b[0m             \u001b[0;32mexcept\u001b[0m \u001b[0mKeyboardInterrupt\u001b[0m\u001b[0;34m:\u001b[0m\u001b[0;34m\u001b[0m\u001b[0;34m\u001b[0m\u001b[0m\n\u001b[1;32m   1050\u001b[0m                 \u001b[0;31m# re-raise KeyboardInterrupt, to truncate traceback\u001b[0m\u001b[0;34m\u001b[0m\u001b[0;34m\u001b[0m\u001b[0m\n\u001b[0;32m-> 1051\u001b[0;31m                 \u001b[0;32mraise\u001b[0m \u001b[0mKeyboardInterrupt\u001b[0m\u001b[0;34m(\u001b[0m\u001b[0;34m\"Interrupted by user\"\u001b[0m\u001b[0;34m)\u001b[0m \u001b[0;32mfrom\u001b[0m \u001b[0;32mNone\u001b[0m\u001b[0;34m\u001b[0m\u001b[0;34m\u001b[0m\u001b[0m\n\u001b[0m\u001b[1;32m   1052\u001b[0m             \u001b[0;32mexcept\u001b[0m \u001b[0mException\u001b[0m\u001b[0;34m:\u001b[0m\u001b[0;34m\u001b[0m\u001b[0;34m\u001b[0m\u001b[0m\n\u001b[1;32m   1053\u001b[0m                 \u001b[0mself\u001b[0m\u001b[0;34m.\u001b[0m\u001b[0mlog\u001b[0m\u001b[0;34m.\u001b[0m\u001b[0mwarning\u001b[0m\u001b[0;34m(\u001b[0m\u001b[0;34m\"Invalid Message:\"\u001b[0m\u001b[0;34m,\u001b[0m \u001b[0mexc_info\u001b[0m\u001b[0;34m=\u001b[0m\u001b[0;32mTrue\u001b[0m\u001b[0;34m)\u001b[0m\u001b[0;34m\u001b[0m\u001b[0;34m\u001b[0m\u001b[0m\n",
      "\u001b[0;31mKeyboardInterrupt\u001b[0m: Interrupted by user"
     ]
    }
   ],
   "source": [
    "messages = [{\"role\": \"system\", \"content\" : \"You are a great assistant.\"}]\n",
    "while True:\n",
    "\n",
    "    content = input(\"玩转数据老六: \")\n",
    "    messages.append({\"role\": \"user\", \"content\": content})\n",
    "\n",
    "    completion = openai.ChatCompletion.create(\n",
    "      model = \"gpt-3.5-turbo\",\n",
    "      messages = messages\n",
    "    )\n",
    "\n",
    "    ai_rsp = completion.choices[0].message.content\n",
    "    print(f\"AI小七: {ai_rsp}\")"
   ]
  },
  {
   "cell_type": "markdown",
   "id": "11936f64-34e1-40b9-b4cb-5542b127c516",
   "metadata": {},
   "source": [
    "从上面的连续提问可以看到存在一个问题：历史对话会不断保存，显示冗余，可以通过assistant role来解决这个问题"
   ]
  },
  {
   "cell_type": "markdown",
   "id": "ac578ce3-9cec-41e0-ac20-a5db5cd3c027",
   "metadata": {},
   "source": [
    "### Assistant Role\n",
    "+ 帮助消除冗余显示"
   ]
  },
  {
   "cell_type": "code",
   "execution_count": 11,
   "id": "13cb3531-2b27-485b-a175-dc9d84249b1a",
   "metadata": {
    "tags": []
   },
   "outputs": [
    {
     "name": "stdin",
     "output_type": "stream",
     "text": [
      "玩转数据老六:  who is yaoming?\n"
     ]
    },
    {
     "name": "stdout",
     "output_type": "stream",
     "text": [
      "AI小七: Yao Ming is a retired Chinese professional basketball player. He played for the Houston Rockets in the NBA and was one of the most popular and successful athletes from China.\n",
      "\n"
     ]
    },
    {
     "name": "stdin",
     "output_type": "stream",
     "text": [
      "玩转数据老六:  how tall is he?\n"
     ]
    },
    {
     "name": "stdout",
     "output_type": "stream",
     "text": [
      "AI小七: Yao Ming is 7 feet 6 inches (2.29 meters) tall.\n",
      "\n"
     ]
    },
    {
     "name": "stdin",
     "output_type": "stream",
     "text": [
      "玩转数据老六:  where is he from?\n"
     ]
    },
    {
     "name": "stdout",
     "output_type": "stream",
     "text": [
      "AI小七: Yao Ming is from Shanghai, China.\n",
      "\n"
     ]
    },
    {
     "ename": "KeyboardInterrupt",
     "evalue": "Interrupted by user",
     "output_type": "error",
     "traceback": [
      "\u001b[0;31m---------------------------------------------------------------------------\u001b[0m",
      "\u001b[0;31mKeyboardInterrupt\u001b[0m                         Traceback (most recent call last)",
      "\u001b[0;32m/var/folders/7w/gpbvq9s17sdf_72jbzjbq2yw0000gn/T/ipykernel_35929/2950722766.py\u001b[0m in \u001b[0;36m<module>\u001b[0;34m\u001b[0m\n\u001b[1;32m      2\u001b[0m \u001b[0;32mwhile\u001b[0m \u001b[0;32mTrue\u001b[0m\u001b[0;34m:\u001b[0m\u001b[0;34m\u001b[0m\u001b[0;34m\u001b[0m\u001b[0m\n\u001b[1;32m      3\u001b[0m \u001b[0;34m\u001b[0m\u001b[0m\n\u001b[0;32m----> 4\u001b[0;31m     \u001b[0mcontent\u001b[0m \u001b[0;34m=\u001b[0m \u001b[0minput\u001b[0m\u001b[0;34m(\u001b[0m\u001b[0;34m\"玩转数据老六: \"\u001b[0m\u001b[0;34m)\u001b[0m\u001b[0;34m\u001b[0m\u001b[0;34m\u001b[0m\u001b[0m\n\u001b[0m\u001b[1;32m      5\u001b[0m     \u001b[0mmessages\u001b[0m\u001b[0;34m.\u001b[0m\u001b[0mappend\u001b[0m\u001b[0;34m(\u001b[0m\u001b[0;34m{\u001b[0m\u001b[0;34m\"role\"\u001b[0m\u001b[0;34m:\u001b[0m \u001b[0;34m\"user\"\u001b[0m\u001b[0;34m,\u001b[0m \u001b[0;34m\"content\"\u001b[0m\u001b[0;34m:\u001b[0m \u001b[0mcontent\u001b[0m\u001b[0;34m}\u001b[0m\u001b[0;34m)\u001b[0m\u001b[0;34m\u001b[0m\u001b[0;34m\u001b[0m\u001b[0m\n\u001b[1;32m      6\u001b[0m \u001b[0;34m\u001b[0m\u001b[0m\n",
      "\u001b[0;32m/opt/anaconda3/lib/python3.9/site-packages/ipykernel/kernelbase.py\u001b[0m in \u001b[0;36mraw_input\u001b[0;34m(self, prompt)\u001b[0m\n\u001b[1;32m   1004\u001b[0m                 \u001b[0;34m\"raw_input was called, but this frontend does not support input requests.\"\u001b[0m\u001b[0;34m\u001b[0m\u001b[0;34m\u001b[0m\u001b[0m\n\u001b[1;32m   1005\u001b[0m             )\n\u001b[0;32m-> 1006\u001b[0;31m         return self._input_request(\n\u001b[0m\u001b[1;32m   1007\u001b[0m             \u001b[0mstr\u001b[0m\u001b[0;34m(\u001b[0m\u001b[0mprompt\u001b[0m\u001b[0;34m)\u001b[0m\u001b[0;34m,\u001b[0m\u001b[0;34m\u001b[0m\u001b[0;34m\u001b[0m\u001b[0m\n\u001b[1;32m   1008\u001b[0m             \u001b[0mself\u001b[0m\u001b[0;34m.\u001b[0m\u001b[0m_parent_ident\u001b[0m\u001b[0;34m[\u001b[0m\u001b[0;34m\"shell\"\u001b[0m\u001b[0;34m]\u001b[0m\u001b[0;34m,\u001b[0m\u001b[0;34m\u001b[0m\u001b[0;34m\u001b[0m\u001b[0m\n",
      "\u001b[0;32m/opt/anaconda3/lib/python3.9/site-packages/ipykernel/kernelbase.py\u001b[0m in \u001b[0;36m_input_request\u001b[0;34m(self, prompt, ident, parent, password)\u001b[0m\n\u001b[1;32m   1049\u001b[0m             \u001b[0;32mexcept\u001b[0m \u001b[0mKeyboardInterrupt\u001b[0m\u001b[0;34m:\u001b[0m\u001b[0;34m\u001b[0m\u001b[0;34m\u001b[0m\u001b[0m\n\u001b[1;32m   1050\u001b[0m                 \u001b[0;31m# re-raise KeyboardInterrupt, to truncate traceback\u001b[0m\u001b[0;34m\u001b[0m\u001b[0;34m\u001b[0m\u001b[0m\n\u001b[0;32m-> 1051\u001b[0;31m                 \u001b[0;32mraise\u001b[0m \u001b[0mKeyboardInterrupt\u001b[0m\u001b[0;34m(\u001b[0m\u001b[0;34m\"Interrupted by user\"\u001b[0m\u001b[0;34m)\u001b[0m \u001b[0;32mfrom\u001b[0m \u001b[0;32mNone\u001b[0m\u001b[0;34m\u001b[0m\u001b[0;34m\u001b[0m\u001b[0m\n\u001b[0m\u001b[1;32m   1052\u001b[0m             \u001b[0;32mexcept\u001b[0m \u001b[0mException\u001b[0m\u001b[0;34m:\u001b[0m\u001b[0;34m\u001b[0m\u001b[0;34m\u001b[0m\u001b[0m\n\u001b[1;32m   1053\u001b[0m                 \u001b[0mself\u001b[0m\u001b[0;34m.\u001b[0m\u001b[0mlog\u001b[0m\u001b[0;34m.\u001b[0m\u001b[0mwarning\u001b[0m\u001b[0;34m(\u001b[0m\u001b[0;34m\"Invalid Message:\"\u001b[0m\u001b[0;34m,\u001b[0m \u001b[0mexc_info\u001b[0m\u001b[0;34m=\u001b[0m\u001b[0;32mTrue\u001b[0m\u001b[0;34m)\u001b[0m\u001b[0;34m\u001b[0m\u001b[0;34m\u001b[0m\u001b[0m\n",
      "\u001b[0;31mKeyboardInterrupt\u001b[0m: Interrupted by user"
     ]
    }
   ],
   "source": [
    "messages = [{\"role\": \"system\", \"content\" : \"You are a great assistant.\"}]\n",
    "while True:\n",
    "\n",
    "    content = input(\"玩转数据老六: \")\n",
    "    messages.append({\"role\": \"user\", \"content\": content})\n",
    "\n",
    "    completion = openai.ChatCompletion.create(\n",
    "      model = \"gpt-3.5-turbo\",\n",
    "      messages = messages\n",
    "    )\n",
    "\n",
    "    ai_rsp = completion.choices[0].message.content\n",
    "    print(f\"AI小七: {ai_rsp}\")\n",
    "    print(\"\")\n",
    "    messages.append({\"role\": \"assistant\", \"content\": ai_rsp})"
   ]
  },
  {
   "cell_type": "code",
   "execution_count": null,
   "id": "aec8c74d-991d-44d6-93f9-c7517f6ac1c4",
   "metadata": {},
   "outputs": [],
   "source": []
  },
  {
   "cell_type": "markdown",
   "id": "90dd650a-79d4-495c-9779-e9d77149a4f8",
   "metadata": {},
   "source": [
    "## 更多信息，欢迎关注\n",
    "+ 小红书：[数据六总](https://www.xiaohongshu.com/user/profile/5e67aeb60000000001007756?xhsshare=CopyLink&appuid=5e67aeb60000000001007756&apptime=1678807494)\n",
    "+ 知乎：[六总](https://www.zhihu.com/people/yuntongxue)"
   ]
  },
  {
   "cell_type": "code",
   "execution_count": null,
   "id": "64c25890-75c4-4b7b-8a82-2ddce71e6d9e",
   "metadata": {},
   "outputs": [],
   "source": []
  }
 ],
 "metadata": {
  "kernelspec": {
   "display_name": "Python 3 (ipykernel)",
   "language": "python",
   "name": "python3"
  },
  "language_info": {
   "codemirror_mode": {
    "name": "ipython",
    "version": 3
   },
   "file_extension": ".py",
   "mimetype": "text/x-python",
   "name": "python",
   "nbconvert_exporter": "python",
   "pygments_lexer": "ipython3",
   "version": "3.9.7"
  }
 },
 "nbformat": 4,
 "nbformat_minor": 5
}
